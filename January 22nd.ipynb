{
 "cells": [
  {
   "cell_type": "code",
   "execution_count": 7,
   "metadata": {
    "collapsed": false
   },
   "outputs": [
    {
     "name": "stdout",
     "output_type": "stream",
     "text": [
      "x a b\n",
      "x a c\n",
      "x a d\n",
      "x b c\n",
      "x b d\n",
      "x c d\n",
      "y a b\n",
      "y a c\n",
      "y a d\n",
      "y b c\n",
      "y b d\n",
      "y c d\n"
     ]
    }
   ],
   "source": [
    "pions = ['a','b','c','d']\n",
    "kaons = ['x','y']\n",
    "\n",
    "npions = len(pions)\n",
    "nkaons = len(kaons)\n",
    "\n",
    "for i in range(0,nkaons):\n",
    "    for j in range(0,npions):\n",
    "        for k in range(j+1,npions):\n",
    "        \n",
    "            print \"%s %s %s\" % (kaons[i],pions[j],pions[k])"
   ]
  },
  {
   "cell_type": "code",
   "execution_count": null,
   "metadata": {
    "collapsed": true
   },
   "outputs": [],
   "source": []
  }
 ],
 "metadata": {
  "kernelspec": {
   "display_name": "Python 2",
   "language": "python",
   "name": "python2"
  },
  "language_info": {
   "codemirror_mode": {
    "name": "ipython",
    "version": 2
   },
   "file_extension": ".py",
   "mimetype": "text/x-python",
   "name": "python",
   "nbconvert_exporter": "python",
   "pygments_lexer": "ipython2",
   "version": "2.7.10"
  }
 },
 "nbformat": 4,
 "nbformat_minor": 0
}
