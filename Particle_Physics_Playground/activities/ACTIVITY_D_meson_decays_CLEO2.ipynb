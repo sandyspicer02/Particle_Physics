{
 "cells": [
  {
   "cell_type": "markdown",
   "metadata": {},
   "source": [
    "# Reconstructing $D$ mesons"
   ]
  },
  {
   "cell_type": "markdown",
   "metadata": {},
   "source": [
    "<h3>Learning goals</h3>\n",
    "<ul>\n",
    "    <li>Relativistic kinematics.\n",
    "    <li>Mesons.\n",
    "</ul>"
   ]
  },
  {
   "cell_type": "markdown",
   "metadata": {},
   "source": [
    "To prepare for this activity, you should already have looked at the activity on <a href=\"https://github.com/particle-physics-playground/playground/blob/master/activities/ACTIVITY_dimuon_spectrum.ipynb\">how to reconstruct particles from their decay products</a> and <a href=\"https://github.com/particle-physics-playground/playground/blob/master/activities/hello_CLEO.ipynb\">how to interface with CLEO data</a>.\n",
    "\n",
    "After you are familiar with those activities, use the <a href=\"https://github.com/particle-physics-playground/playground/blob/master/activities/download_more_data.ipynb\">download-more-data notebook</a> and grab the Monte Carlo file that simulates the following decay:\n",
    "\n",
    "$$D^+ \\rightarrow K^- \\pi^+ \\pi^+$$ \n",
    "Also grab the CLEO data file. \n",
    "\n",
    "Your challenge is to reconstruct the $D^+$ meson in the Monte Carlo and then go to the data and see if you can find the $D^+$ in the same decay mode. Things to think about:\n",
    "\n",
    "* Make sure you deal with all possible $K\\pi\\pi$ combinations.\n",
    "* How much background is there under the peak in the data? How might you eliminate it? Can you eliminate all of it?\n",
    "* Is there \"structure\" in the $K\\pi$ systems? That is, when you plot the invariant mass of the $K\\pi$ system, do you see any peaks?\n",
    "* Can you make a <a href=\"https://en.wikipedia.org/wiki/Dalitz_plot\">Dalitz</a> <a href=\"http://www2.warwick.ac.uk/fac/sci/physics/staff/academic/gershon/talks/gershon-BadHonnef.pdf\">plot</a> for this decay mode?\n",
    "* Can you find the other decay modes in the data that you have MC for? \n",
    "\n",
    "Have fun and good luck!"
   ]
  },
  {
   "cell_type": "markdown",
   "metadata": {},
   "source": [
    "$D^+$ are the lightest particles containing charm quarks\n",
    "* Made up of a charm and anti-down quark\n",
    "* Mass = 1.87 GeV\n",
    "\n",
    "$K^-$ is the anti-particle of the Kaon or K Meson\n",
    "* Made up of an anti-up and an strange quark (Anti-quark + quark = MESON)\n",
    "* Mass = 0.494 GeV\n",
    "\n",
    "$\\pi^+$ is a pion or pi meson\n",
    "* Made up of an up and anti-down quark\n",
    "* Mass = 0.1395 GeV"
   ]
  },
  {
   "cell_type": "code",
   "execution_count": 2,
   "metadata": {
    "collapsed": false
   },
   "outputs": [
    {
     "name": "stdout",
     "output_type": "stream",
     "text": [
      "Reading in the data....\n",
      "9715\n",
      "101\n"
     ]
    }
   ],
   "source": [
    "import sys\n",
    "sys.path.append(\"../tools/\")\n",
    "import numpy as np\n",
    "import cms_tools\n",
    "import cleo_tools as cleo\n",
    "import matplotlib.pyplot as plt\n",
    "%matplotlib inline\n",
    "\n",
    "infile = open(\"../data/Single_D0B_to_KK_ISR_LARGE.dat\")\n",
    "infile1 = open(\"../data/small_CLEO_test_file.dat\")\n",
    "\n",
    "\n",
    "print \"Reading in the data....\"\n",
    "collisions_mc = cleo.get_collisions(infile)\n",
    "collisions_cleo = cleo.get_collisions(infile1)\n",
    "\n",
    "print len(collisions_mc)\n",
    "print len(collisions_cleo)"
   ]
  },
  {
   "cell_type": "code",
   "execution_count": 3,
   "metadata": {
    "collapsed": true
   },
   "outputs": [],
   "source": [
    "from math import sqrt\n",
    "def mass(E,px,py,pz):\n",
    "    m1 = (E**2-(px**2+py**2+pz**2))\n",
    "    if m1>=0:\n",
    "        return sqrt(m1)\n",
    "    else:\n",
    "        return sqrt(-m1)\n",
    "    \n",
    "def particle():\n",
    "    if m>=.4935 and m<=.4937:\n",
    "        return \"This is a kaon\"\n",
    "    elif m>=0.1394 and m<=0.1396:\n",
    "        return \"This is a pion\""
   ]
  },
  {
   "cell_type": "code",
   "execution_count": 4,
   "metadata": {
    "collapsed": false
   },
   "outputs": [
    {
     "name": "stdout",
     "output_type": "stream",
     "text": [
      "0.77281103093\n"
     ]
    },
    {
     "data": {
      "text/plain": [
       "<matplotlib.text.Text at 0x1092d1310>"
      ]
     },
     "execution_count": 4,
     "metadata": {},
     "output_type": "execute_result"
    },
    {
     "data": {
      "image/png": "[encoded data removed]",
      "text/plain": [
       "<matplotlib.figure.Figure at 0x103b31f10>"
      ]
     },
     "metadata": {},
     "output_type": "display_data"
    },
    {
     "data": {
      "image/png": "[encoded data removed]",
      "text/plain": [
       "<matplotlib.figure.Figure at 0x108d3cad0>"
      ]
     },
     "metadata": {},
     "output_type": "display_data"
    }
   ],
   "source": [
    "kaons_mass = []\n",
    "pions_mass = []\n",
    "d_meson_mass = []\n",
    "\n",
    "for collision_mc in collisions_mc:\n",
    "    \n",
    "    pions,kaons,muons,electrons,photons = collision_mc\n",
    "         \n",
    "    for kaon in kaons:\n",
    "        E,px,py,pz,q = kaon[0:5]\n",
    "        m1 = mass(E,px,py,pz)\n",
    "        kaons_mass.append(m1)\n",
    "    \n",
    "    for pion in pions:\n",
    "        E,px,py,pz,q = pion[0:5]\n",
    "        m2 = mass(E,px,py,pz)\n",
    "        pions_mass.append(m2)\n",
    "        \n",
    "        d_meson = m1 + 2*m2\n",
    "        d_meson_mass.append(d_meson)\n",
    "print d_meson\n",
    "\n",
    "plt.figure()\n",
    "plt.hist(kaons_mass,bins=50,range=(0,1)) # Why does the range function change the mass that is graphed?\n",
    "plt.xlabel('Mass of Kaon [GeV]')\n",
    "plt.ylabel('# entries')\n",
    "\n",
    "plt.figure()\n",
    "plt.hist(pions_mass,bins=50,range=(0,0.25))\n",
    "plt.xlabel('Mass of Pion [GeV]')\n",
    "plt.ylabel('# entries')"
   ]
  },
  {
   "cell_type": "code",
   "execution_count": 5,
   "metadata": {
    "collapsed": false
   },
   "outputs": [],
   "source": [
    "# d_meson = []\n",
    " \n",
    "\n",
    "# for jet in jets:\n",
    "#     p = particle()\n",
    "#     if p == \"This is a kaon\":\n",
    "#         kaons.append(m)\n",
    "#     elif p == \"This is a pion\":\n",
    "#         pions.append(m)\n",
    "    \n",
    "#     total_mass = kaons + pions\n",
    "#     d_meson.append(total_mass)\n",
    "\n",
    "# print d_meson\n",
    "# print pions        "
   ]
  },
  {
   "cell_type": "code",
   "execution_count": null,
   "metadata": {
    "collapsed": true
   },
   "outputs": [],
   "source": []
  },
  {
   "cell_type": "code",
   "execution_count": null,
   "metadata": {
    "collapsed": true
   },
   "outputs": [],
   "source": []
  }
 ],
 "metadata": {
  "kernelspec": {
   "display_name": "Python 2",
   "language": "python",
   "name": "python2"
  },
  "language_info": {
   "codemirror_mode": {
    "name": "ipython",
    "version": 2
   },
   "file_extension": ".py",
   "mimetype": "text/x-python",
   "name": "python",
   "nbconvert_exporter": "python",
   "pygments_lexer": "ipython2",
   "version": "2.7.10"
  }
 },
 "nbformat": 4,
 "nbformat_minor": 0
}
