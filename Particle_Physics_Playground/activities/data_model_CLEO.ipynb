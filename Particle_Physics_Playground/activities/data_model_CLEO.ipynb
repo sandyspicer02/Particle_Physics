{
 "cells": [
  {
   "cell_type": "markdown",
   "metadata": {},
   "source": [
    "Here we explain the data model for the primary <a href=\"http://www.lns.cornell.edu/Research/CLEO/\">CLEO</a> datasets used in many of these activities.\n",
    "\n",
    "This activity focuses mostly on accessing the data, not explaining the physics, though some helpful links are provided in the discussion."
   ]
  },
  {
   "cell_type": "markdown",
   "metadata": {},
   "source": [
    "First we import some standard python libraries, as well as the helper code, <b><tt>cleo_tools</tt></b>."
   ]
  },
  {
   "cell_type": "code",
   "execution_count": 1,
   "metadata": {
    "collapsed": false
   },
   "outputs": [],
   "source": [
    "import numpy as np\n",
    "\n",
    "import matplotlib.pylab as plt\n",
    "%matplotlib inline\n",
    "# Uncomment the following line if you want your plots to be displayed in a separate interactive window.\n",
    "#%matplotlib qt \n",
    "\n",
    "import sys\n",
    "sys.path.append(\"../tools/\")\n",
    "\n",
    "#from draw_objects3D import *\n",
    "import cleo_tools as cleo"
   ]
  },
  {
   "cell_type": "markdown",
   "metadata": {},
   "source": [
    "Next, we will open the file and pull out the collision data. This will return a Python <a href=\"https://docs.python.org/2/tutorial/datastructures.html\">list</a> of all the collisions in that file."
   ]
  },
  {
   "cell_type": "code",
   "execution_count": 2,
   "metadata": {
    "collapsed": false
   },
   "outputs": [
    {
     "name": "stdout",
     "output_type": "stream",
     "text": [
      "# of electron-positron collisions: 101\n"
     ]
    }
   ],
   "source": [
    "infile = open('../data/small_CLEO_test_file.dat')\n",
    "collisions = cleo.get_collisions(infile)\n",
    "\n",
    "number_of_collisions = len(collisions)\n",
    "print \"# of electron-positron collisions: %d\" % (number_of_collisions)"
   ]
  },
  {
   "cell_type": "markdown",
   "metadata": {},
   "source": [
    "Let's take a look at the first collision by looking at the first entry in the list of collisions."
   ]
  },
  {
   "cell_type": "code",
   "execution_count": 3,
   "metadata": {
    "collapsed": false
   },
   "outputs": [
    {
     "name": "stdout",
     "output_type": "stream",
     "text": [
      "[[[0.279085, 0.187624, -0.073364, 0.133505, -1, -1.671273, -11.683205, -75.040497, 0.0, 7, 0, 0.0, 0.183578], [1.019725, -0.178729, 0.947881, 0.299894, 1, -1.830502, -2.553785, -79.300964, -6.358639, 6, 0, 0.0, 0.320355], [0.436359, -0.370543, -0.148504, -0.107581, 1, 0.917965, -8.011919, -64.965729, 0.0, 6, 0, 0.0, 0.216381]], [[0.879382, 0.095546, -0.708242, -0.137368, -1, 2.729964, -0.664625, 0.0, -90.84848, 0, 9, 0.0, 0.567948]], [], [], [[0.253472, 0.046423, 0.228371, -0.099699], [0.239568, 0.116614, -0.178629, -0.109021], [0.220037, -0.020724, -0.123209, -0.181126], [0.096208, 0.088001, 0.037087, 0.011675], [0.052718, -0.002215, -0.028248, 0.044456], [0.040774, -0.009635, -0.019504, 0.034486], [0.041183, 0.000455, 0.028166, -0.030042], [0.040497, -0.009829, -0.011206, 0.037653], [0.033564, 0.010412, 0.028661, -0.014024], [0.028969, -0.003624, -0.014931, 0.024559], [0.030313, -0.002049, 0.015138, 0.026183], [0.025987, -0.005524, -0.025039, -0.004221], [0.025925, 0.006161, -0.025149, -0.001284], [0.020092, 0.015795, -0.005421, 0.011173], [0.019737, 0.002297, -0.019535, -0.001626], [0.012912, -0.00631, 0.009818, 0.005523]]]\n"
     ]
    }
   ],
   "source": [
    "print collisions[0]"
   ]
  },
  {
   "cell_type": "markdown",
   "metadata": {},
   "source": [
    "We see that this entry is a list of other lists! How many of these other lists are there?"
   ]
  },
  {
   "cell_type": "code",
   "execution_count": 4,
   "metadata": {
    "collapsed": false
   },
   "outputs": [
    {
     "name": "stdout",
     "output_type": "stream",
     "text": [
      "5\n"
     ]
    }
   ],
   "source": [
    "print len(collisions[0])"
   ]
  },
  {
   "cell_type": "markdown",
   "metadata": {},
   "source": [
    "What are these 5 entries? Each of them contains information about different particles and other physics quantities that you would want to analyze in any given proton-proton collision.\n",
    "\n",
    "These entries contain information about (in order):\n",
    "* <a href=\"http://en.wikipedia.org/wiki/Pion\">pions</a>\n",
    "* <a href=\"http://en.wikipedia.org/wiki/Kaon\">kaons</a>\n",
    "* <a href=\"http://en.wikipedia.org/wiki/Muon\">muons</a>\n",
    "* <a href=\"http://en.wikipedia.org/wiki/Electron\">electrons</a>\n",
    "* <a href=\"http://en.wikipedia.org/wiki/Photon\">photons</a> \n",
    "\n",
    "Each of these 5 entries is a list containting, for example, the information about each pion in the event. A particular collision will most likely have a different number of pion than the previous collision, so you need to be aware of this when you write your code."
   ]
  },
  {
   "cell_type": "code",
   "execution_count": 5,
   "metadata": {
    "collapsed": false
   },
   "outputs": [
    {
     "name": "stdout",
     "output_type": "stream",
     "text": [
      "# of pions:     3\n",
      "# of kaons:     1\n",
      "# of muons:     0\n",
      "# of electrons: 0\n",
      "# of photons:   16\n"
     ]
    }
   ],
   "source": [
    "print \"# of pions:     %d\" % (len(collisions[0][0]))\n",
    "print \"# of kaons:     %d\" % (len(collisions[0][1]))\n",
    "print \"# of muons:     %d\" % (len(collisions[0][2]))\n",
    "print \"# of electrons: %d\" % (len(collisions[0][3]))\n",
    "print \"# of photons:   %d\" % (len(collisions[0][4]))"
   ]
  },
  {
   "cell_type": "markdown",
   "metadata": {},
   "source": [
    "It's easiest to access these quantities by making use of Python's syntax in accessing multiple entries of a list in one line."
   ]
  },
  {
   "cell_type": "code",
   "execution_count": 6,
   "metadata": {
    "collapsed": false
   },
   "outputs": [],
   "source": [
    "pions,kaons,muons,electrons,photons = collisions[0]"
   ]
  },
  {
   "cell_type": "markdown",
   "metadata": {},
   "source": [
    "Let's look at the information for each of these quantities. The first 4 entries are all charged particles and contain the same type of information. "
   ]
  },
  {
   "cell_type": "markdown",
   "metadata": {},
   "source": [
    "## Pions, kaons, muons, electrons"
   ]
  },
  {
   "cell_type": "code",
   "execution_count": 7,
   "metadata": {
    "collapsed": false
   },
   "outputs": [
    {
     "name": "stdout",
     "output_type": "stream",
     "text": [
      "E:          0.2791\n",
      "px:         0.1876\n",
      "py:        -0.0734\n",
      "pz:         0.1335\n",
      "charge:   -1\n",
      "sigpi:     -1.6713\n",
      "sigka:    -11.6832\n",
      "likpi:    -75.0405\n",
      "likka:      0.0000\n",
      "nphopi:     7.0000\n",
      "nphoka:     0.0000\n",
      "depthmu:    0.0000\n",
      "cluster_energy:      0.1836\n"
     ]
    }
   ],
   "source": [
    "E,px,py,pz,charge,sigpi,sigka,likpi,likka,nphopi,nphoka,depthmu,cluster_energy = pions[0]\n",
    "print \"E:        %8.4f\" % (E)\n",
    "print \"px:       %8.4f\" % (px)\n",
    "print \"py:       %8.4f\" % (py)\n",
    "print \"pz:       %8.4f\" % (pz)\n",
    "print \"charge:   %d\" % (charge)\n",
    "print \"sigpi:    %8.4f\" % (sigpi)\n",
    "print \"sigka:    %8.4f\" % (sigka)\n",
    "print \"likpi:    %8.4f\" % (likpi)\n",
    "print \"likka:    %8.4f\" % (likka)\n",
    "print \"nphopi:   %8.4f\" % (nphopi)\n",
    "print \"nphoka:   %8.4f\" % (nphoka)\n",
    "print \"depthmu:  %8.4f\" % (depthmu)\n",
    "print \"cluster_energy:    %8.4f\" % (cluster_energy)\n"
   ]
  },
  {
   "cell_type": "markdown",
   "metadata": {},
   "source": [
    "Those first 4 entries refer to the energy and Cartesian-components of the momentum of the jet. Collectively, this is referred to as the <a href=\"http://en.wikipedia.org/wiki/Four-momentum\">four-momentum</a> (or four-vector) and it is the bread-and-butter of most of the analyses. \n",
    "\n",
    "The 5th entry is the electric charge.\n",
    "\n",
    "The next entries are..."
   ]
  },
  {
   "cell_type": "markdown",
   "metadata": {},
   "source": [
    "## Photons"
   ]
  },
  {
   "cell_type": "code",
   "execution_count": 8,
   "metadata": {
    "collapsed": false
   },
   "outputs": [
    {
     "name": "stdout",
     "output_type": "stream",
     "text": [
      "E:    0.2535\n",
      "px:   0.0464\n",
      "py:   0.2284\n",
      "pz:  -0.0997\n"
     ]
    }
   ],
   "source": [
    "E,px,py,pz = photons[0]\n",
    "print \"E:  %8.4f\" % (E)\n",
    "print \"px: %8.4f\" % (px)\n",
    "print \"py: %8.4f\" % (py)\n",
    "print \"pz: %8.4f\" % (pz)"
   ]
  },
  {
   "cell_type": "markdown",
   "metadata": {},
   "source": [
    "Photons are electrically neutral, so the only 4 entries are the components of the four-momentum."
   ]
  },
  {
   "cell_type": "markdown",
   "metadata": {},
   "source": [
    "## Sample skeleton code"
   ]
  },
  {
   "cell_type": "markdown",
   "metadata": {},
   "source": [
    "Here is a snippet of code that loops over some data and plots the number of pions, the energy of the pions, and the energy of the kaons for each event."
   ]
  },
  {
   "cell_type": "code",
   "execution_count": 9,
   "metadata": {
    "collapsed": false
   },
   "outputs": [
    {
     "data": {
      "text/plain": [
       "<matplotlib.text.Text at 0x7fc0a6bbf550>"
      ]
     },
     "execution_count": 9,
     "metadata": {},
     "output_type": "execute_result"
    },
    {
     "data": {
      "image/png": "[encoded data removed]",
      "text/plain": [
       "<matplotlib.figure.Figure at 0x7fc0a6dc73d0>"
      ]
     },
     "metadata": {},
     "output_type": "display_data"
    }
   ],
   "source": [
    "infile = open('../data/small_CLEO_test_file.dat')\n",
    "collisions = cleo.get_collisions(infile)\n",
    "\n",
    "# We will use these to store the quantities that we will be plotting later.\n",
    "npions = []\n",
    "pions_E = []\n",
    "muons_E = []\n",
    "\n",
    "for collision in collisions:\n",
    "    \n",
    "    pions,kaons,muons,electrons,photons = collision\n",
    "    \n",
    "    npions.append(len(pions))\n",
    "    \n",
    "    for pion in pions:\n",
    "        E,px,py,pz,q = pion[0:5]\n",
    "        pions_E.append(E)\n",
    "        \n",
    "    for muon in muons:\n",
    "        E,px,py,pz,q = muon[0:5]\n",
    "        muons_E.append(E)\n",
    "        \n",
    "# Plot the quantities\n",
    "plt.figure(figsize=(16,4))\n",
    "\n",
    "plt.subplot(1,3,1)\n",
    "plt.hist(npions,bins=12,range=(0,12))\n",
    "plt.xlabel(r'# of pions')\n",
    "plt.ylabel('# entries')\n",
    "\n",
    "plt.subplot(1,3,2)\n",
    "plt.hist(pions_E,bins=25,range=(0,2))\n",
    "plt.xlabel(r'Pion energy [GeV]')\n",
    "plt.ylabel('# entries')\n",
    "\n",
    "plt.subplot(1,3,3)\n",
    "plt.hist(muons_E,bins=25,range=(0,2))\n",
    "plt.xlabel(r'Muon energy [GeV]')\n",
    "plt.ylabel('# entries')"
   ]
  },
  {
   "cell_type": "code",
   "execution_count": null,
   "metadata": {
    "collapsed": false
   },
   "outputs": [],
   "source": []
  }
 ],
 "metadata": {
  "kernelspec": {
   "display_name": "Python 2",
   "language": "python",
   "name": "python2"
  },
  "language_info": {
   "codemirror_mode": {
    "name": "ipython",
    "version": 2
   },
   "file_extension": ".py",
   "mimetype": "text/x-python",
   "name": "python",
   "nbconvert_exporter": "python",
   "pygments_lexer": "ipython2",
   "version": "2.7.10"
  }
 },
 "nbformat": 4,
 "nbformat_minor": 0
}
