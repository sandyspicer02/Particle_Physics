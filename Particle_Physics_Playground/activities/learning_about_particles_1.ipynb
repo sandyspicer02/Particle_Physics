{
 "metadata": {
  "name": "",
  "signature": "sha256:8c0725eb8f29a99715cd1965a4261b1c47d505b22589f5b911e17829a6e55565"
 },
 "nbformat": 3,
 "nbformat_minor": 0,
 "worksheets": [
  {
   "cells": [
    {
     "cell_type": "heading",
     "level": 1,
     "metadata": {},
     "source": [
      "Lifetimes of the particles"
     ]
    },
    {
     "cell_type": "markdown",
     "metadata": {},
     "source": [
      "<h3>Learning goals</h3>\n",
      "<ul>\n",
      "    <li>Relativistic kinematics.\n",
      "    <li>Standard model particles.\n",
      "    <li>Special Relativity.\n",
      "</ul>"
     ]
    },
    {
     "cell_type": "markdown",
     "metadata": {},
     "source": [
      "<b>Background</b>\n",
      "\n",
      "Every particle is unique. They each have different masses, lifetimes, decay methods and many other properties. \n",
      "\n",
      "To find the distance a particle travels in one lifetime, you need to know the lifetime of the particle and the speed of light. The formula to find the distance travelled in one lifetime is $ d= vt. $ Where $v$ is the speed of light and $t$ is the lifetime of the particle. The speed of light is $3\\times10^8$  m/s$^2$. \n",
      "\n",
      "To find the distance travelled with different momenta you need to know, the particles momentum, mass, and lifetime. \n",
      "\n",
      "One concept in Einstein's <a href=\"http://en.wikipedia.org/wiki/Special_relativity\">special relativity</a> is <a href=\"http://en.wikipedia.org/wiki/Time_dilation\">time dilation</a>. This means moving clocks are measured to tick more slowly than an observer's \"stationary\" clock.  This concept needs to be kept in mind when solving for the distance travelled at high velocities. \n",
      "\n",
      "Some important equations you need to know are:\n",
      "\n",
      "$E = \\sqrt{(pc)^2 + (mc^2)^2}$\n",
      "\n",
      "$\\beta = \\frac{v}{c}$\n",
      "\n",
      "$\\frac{p}{E} = \\frac{\\beta}{c}$\n",
      "\n",
      "$\\gamma = \\frac{1}{\\sqrt{1-\\beta^2}}$\n",
      "\n",
      "$t = \\gamma t_0$"
     ]
    },
    {
     "cell_type": "markdown",
     "metadata": {},
     "source": [
      "<b>Let's code!</b>\n",
      "\n",
      "Here is a sample code that creates a table of the lifetime and distance traveled in one lifetime for three different particles."
     ]
    },
    {
     "cell_type": "code",
     "collapsed": false,
     "input": [
      "particles = [\"B+/-\",\"D+/-\",\"J/Psi\"]\n",
      "\n",
      "lifetimes = [1.64e-12,1.4e-12,7e-21]\n",
      "\n",
      "c = 3e8 # m/s\n",
      "\n",
      "for p,l in zip(particles,lifetimes):\n",
      "    distance = c*l\n",
      "    print \"%-5s lifetime=%4.2f s  distance=%4.2e m\" % (p,l,distance)"
     ],
     "language": "python",
     "metadata": {},
     "outputs": [
      {
       "output_type": "stream",
       "stream": "stdout",
       "text": [
        "B+/-  lifetime=0.00 s  distance=4.92e-04 m\n",
        "D+/-  lifetime=0.00 s  distance=4.20e-04 m\n",
        "J/Psi lifetime=0.00 s  distance=2.10e-12 m\n"
       ]
      }
     ],
     "prompt_number": 1
    },
    {
     "cell_type": "markdown",
     "metadata": {},
     "source": [
      "<h3>Particles</h3>\n",
      "<ul>\n",
      "<li>$\\mu^\\pm$\n",
      "    <li>$\\tau^\\pm$\n",
      "    <li>$\\pi^\\pm$\n",
      "    <li>$\\pi^0$\n",
      "    <li>$K^\\pm$\n",
      "    <li>$K^0_{\\rm short}$\n",
      "    <li>$K^0_{\\rm long}$\n",
      "    <li>$D^\\pm$\n",
      "    <li>$B^\\pm$\n",
      "    <li>$B0$\n",
      "    <li>$J/ \\psi$\n",
      "    <li>$\\Upsilon(1S)$\n",
      "</ul>"
     ]
    },
    {
     "cell_type": "markdown",
     "metadata": {},
     "source": [
      "<h2><font color=\"red\">Challenge!</font></h2>\n",
      "\n",
      "Finish the table for every particle listed above with an output of the particles name, the lifetime, the mass, the distance travelled in one lifetime, the momentum, and how far the travel in one lifetime given different momentum.  "
     ]
    },
    {
     "cell_type": "code",
     "collapsed": false,
     "input": [
      "# Your code here"
     ],
     "language": "python",
     "metadata": {},
     "outputs": [],
     "prompt_number": 11
    },
    {
     "cell_type": "markdown",
     "metadata": {},
     "source": [
      "The scale of many modern physics detectors ranges from the order of centimeters to 10's of meters. Given that information, what particles do you think will actually live long enough to travel <i>through</i> parts of the detector? "
     ]
    },
    {
     "cell_type": "code",
     "collapsed": false,
     "input": [
      "# Your answer here"
     ],
     "language": "python",
     "metadata": {},
     "outputs": [],
     "prompt_number": 2
    },
    {
     "cell_type": "markdown",
     "metadata": {},
     "source": [
      "Which particles will decay (on average) before they reach the detectors? This means that these particles have to be reconstructed from their decay products. "
     ]
    },
    {
     "cell_type": "code",
     "collapsed": false,
     "input": [
      "# Your answere here."
     ],
     "language": "python",
     "metadata": {},
     "outputs": [],
     "prompt_number": 3
    },
    {
     "cell_type": "code",
     "collapsed": false,
     "input": [],
     "language": "python",
     "metadata": {},
     "outputs": []
    }
   ],
   "metadata": {}
  }
 ]
}