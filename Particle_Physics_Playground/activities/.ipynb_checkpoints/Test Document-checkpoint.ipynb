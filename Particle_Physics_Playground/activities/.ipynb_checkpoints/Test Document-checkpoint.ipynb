{
 "cells": [
  {
   "cell_type": "code",
   "execution_count": 7,
   "metadata": {
    "collapsed": false
   },
   "outputs": [
    {
     "data": {
      "text/plain": [
       "<matplotlib.text.Text at 0x1065f0c50>"
      ]
     },
     "execution_count": 7,
     "metadata": {},
     "output_type": "execute_result"
    },
    {
     "data": {
      "image/png": "[encoded data removed]",
      "text/plain": [
       "<matplotlib.figure.Figure at 0x1038eead0>"
      ]
     },
     "metadata": {},
     "output_type": "display_data"
    },
    {
     "data": {
      "image/png": "[encoded data removed]",
      "text/plain": [
       "<matplotlib.figure.Figure at 0x106420550>"
      ]
     },
     "metadata": {},
     "output_type": "display_data"
    }
   ],
   "source": [
    "import sys\n",
    "sys.path.append(\"../tools/\")\n",
    "import cms_tools\n",
    "import cleo_tools as cleo\n",
    "import matplotlib.pyplot as plt\n",
    "%matplotlib inline\n",
    "infile = open('../data/small_CLEO_test_file.dat')\n",
    "collisions_mc = cleo.get_collisions(infile)\n",
    "\n",
    "from math import sqrt\n",
    "def mass(E,px,py,pz):\n",
    "    m1 = (E**2-(px**2+py**2+pz**2))\n",
    "    if m1>=0:\n",
    "        return sqrt(m1)\n",
    "    else:\n",
    "        return sqrt(-m1)\n",
    "\n",
    "# We will use these to store the quantities that we will be plotting later.\n",
    "pions_m = []\n",
    "muons_m = []\n",
    "\n",
    "for collision_mc in collisions_mc:\n",
    "    \n",
    "    pions,kaons,muons,electrons,photons = collision_mc\n",
    "    \n",
    "    for pion in pions:\n",
    "        E,px,py,pz,q = pion[0:5]\n",
    "        m1 = mass(E,px,py,pz)\n",
    "        pions_m.append(m1)\n",
    "        \n",
    "    for muon in muons:\n",
    "        E,px,py,pz,q = muon[0:5]\n",
    "        m2 = mass(E,px,py,pz)\n",
    "        muons_m.append(m2)\n",
    "        \n",
    "plt.figure()\n",
    "plt.hist(pions_m,bins=50)\n",
    "plt.xlabel('Mass of Pion [GeV]')\n",
    "plt.ylabel('# entries')\n",
    "        \n",
    "plt.figure()\n",
    "plt.hist(muons_m,bins=50)\n",
    "plt.xlabel('Mass of Muon [GeV]')\n",
    "plt.ylabel('# entries')"
   ]
  },
  {
   "cell_type": "code",
   "execution_count": null,
   "metadata": {
    "collapsed": true
   },
   "outputs": [],
   "source": []
  }
 ],
 "metadata": {
  "kernelspec": {
   "display_name": "Python 2",
   "language": "python",
   "name": "python2"
  },
  "language_info": {
   "codemirror_mode": {
    "name": "ipython",
    "version": 2
   },
   "file_extension": ".py",
   "mimetype": "text/x-python",
   "name": "python",
   "nbconvert_exporter": "python",
   "pygments_lexer": "ipython2",
   "version": "2.7.10"
  }
 },
 "nbformat": 4,
 "nbformat_minor": 0
}
