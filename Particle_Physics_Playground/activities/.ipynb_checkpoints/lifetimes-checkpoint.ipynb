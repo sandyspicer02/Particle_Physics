{
 "cells": [
  {
   "cell_type": "markdown",
   "metadata": {},
   "source": [
    "# Lifetimes"
   ]
  },
  {
   "cell_type": "markdown",
   "metadata": {},
   "source": [
    "<h3>Learning goals</h3>\n",
    "<ul>\n",
    "    <li>Relativistic kinematics.\n",
    "    <li>Standard model particles.\n",
    "    <li>Special Relativity.\n",
    "</ul>"
   ]
  },
  {
   "cell_type": "markdown",
   "metadata": {},
   "source": [
    "<b>Background</b>\n",
    "\n",
    "Every particle is unique. They each have different masses, lifetimes, decay methods and many other properties. \n",
    "\n",
    "To find the distance a particle travels in one lifetime, you need to know the lifetime of the particle and the speed of the particle. The formula to find the distance travelled in one lifetime is $ d= vt. $ Where $v$ is the speed of light and $t$ is the lifetime of the particle. In many particle physics experiments, the particles are moving close to (but always less than!) the speed of light. \n",
    "\n",
    "For purposes of this exercise, let's assume that they are traveling at the the speed of light: $3\\times10^8$  m/s$^2$. \n",
    "\n",
    "<i>If you don't like the idea of them traveling at the speed of light, feel free to change the velocity below to 0.99c<i>  &#x1F609;"
   ]
  },
  {
   "cell_type": "markdown",
   "metadata": {},
   "source": [
    "<b>Let's code!</b>\n",
    "\n",
    "Here is a sample code that creates a table of the lifetime and distance traveled in one lifetime for three different particles."
   ]
  },
  {
   "cell_type": "code",
   "execution_count": 1,
   "metadata": {
    "collapsed": false
   },
   "outputs": [
    {
     "name": "stdout",
     "output_type": "stream",
     "text": [
      "B+/-   lifetime=0.00 s     distance traveled=4.92e-04 m\n",
      "D+/-   lifetime=0.00 s     distance traveled=4.20e-04 m\n",
      "J/Psi  lifetime=0.00 s     distance traveled=2.10e-12 m\n"
     ]
    }
   ],
   "source": [
    "particles = [\"B+/-\",\"D+/-\",\"J/Psi\"]\n",
    "\n",
    "lifetimes = [1.64e-12,1.4e-12,7e-21]\n",
    "\n",
    "c = 3e8 # m/s\n",
    "\n",
    "v = c\n",
    "\n",
    "for p,l in zip(particles,lifetimes):\n",
    "    distance = v*l\n",
    "    print \"%-5s  lifetime=%4.2f s     distance traveled=%4.2e m\" % (p,l,distance)"
   ]
  },
  {
   "cell_type": "markdown",
   "metadata": {},
   "source": [
    "<h3>Particles</h3>\n",
    "<ul>\n",
    "<li>$\\mu^\\pm$\n",
    "    <li>$\\tau^\\pm$\n",
    "    <li>$\\pi^\\pm$\n",
    "    <li>$\\pi^0$\n",
    "    <li>$K^\\pm$\n",
    "    <li>$K^0_{\\rm short}$\n",
    "    <li>$K^0_{\\rm long}$\n",
    "    <li>$D^\\pm$\n",
    "    <li>$B^\\pm$\n",
    "    <li>$B0$\n",
    "    <li>$J/ \\psi$\n",
    "    <li>$\\Upsilon(1S)$\n",
    "</ul>"
   ]
  },
  {
   "cell_type": "markdown",
   "metadata": {},
   "source": [
    "<h2><font color=\"red\">Challenge!</font></h2>\n",
    "\n",
    "Finish the table for every particle listed above with an output of the particles name, the lifetime, the mass, the distance travelled in one lifetime, the momentum, and how far they travel in one lifetime given different momentum.  "
   ]
  },
  {
   "cell_type": "code",
   "execution_count": 10,
   "metadata": {
    "collapsed": false
   },
   "outputs": [
    {
     "name": "stdout",
     "output_type": "stream",
     "text": [
      "1.0\n",
      "Mu+/-  lifetime=0.00 s     distance traveled=6.60e+02 m\n",
      "Tau+/-  lifetime=0.00 s     distance traveled=8.73e-05 m\n",
      "Pi+/-  lifetime=0.00 s     distance traveled=7.80e+00 m\n",
      "Pi**0  lifetime=0.00 s     distance traveled=2.52e-08 m\n",
      "Kappa+/-  lifetime=0.00 s     distance traveled=3.72e+00 m\n",
      "Kappa short  lifetime=0.00 s     distance traveled=2.68e-02 m\n",
      "Kappa long  lifetime=0.00 s     distance traveled=1.54e+01 m\n",
      "D+/-   lifetime=0.00 s     distance traveled=3.12e-04 m\n",
      "B+/-   lifetime=0.00 s     distance traveled=4.92e-04 m\n",
      "B**0   lifetime=0.00 s     distance traveled=4.59e-04 m\n",
      "J/Psi  lifetime=0.00 s     distance traveled=2.16e-12 m\n",
      "Lambda  lifetime=0.00 s     distance traveled=7.89e-02 m\n"
     ]
    }
   ],
   "source": [
    "particles = [\"Mu+/-\",\"Tau+/-\",\"Pi+/-\",\"Pi**0\",\"Kappa+/-\",\"Kappa short\",\"Kappa long\",\"D+/-\",\"B+/-\",\"B**0\",\"J/Psi\",\"Lambda\"]\n",
    "             \n",
    "names = [\"muon\",\"tau\",\"pion\",\"neutral pion\",\"kaon\",\"k-short\",\"k long\",\"D meson\",\"B meson\",\"neutral B meson\",\"J/Psi Meson or psion\",\"Lambda baryon\"]\n",
    "\n",
    "lifetimes = [2.20e-6,2.91e-13,2.6e-8,8.4e-17,1.24e-8,8.95e-11,5.12e-8,1.04e-12,1.64e-12,1.53e-12,7.2e-21,2.63e-10]\n",
    "\n",
    "#masses = [] # Measured in units of MeV/c**2\n",
    "\n",
    "c = 3e8 # m/s\n",
    "\n",
    "v = c\n",
    "\n",
    "for p,n,l in zip(particles,names,lifetimes):\n",
    "    distance = v*l\n",
    "    print \"%-5s  lifetime=%4.2f s     distance traveled=%4.2e m\" % (p,l,distance)"
   ]
  },
  {
   "cell_type": "code",
   "execution_count": null,
   "metadata": {
    "collapsed": true
   },
   "outputs": [],
   "source": []
  },
  {
   "cell_type": "markdown",
   "metadata": {},
   "source": [
    "The scale of many modern physics detectors ranges from the order of centimeters to 10's of meters. Given that information, what particles do you think will actually live long enough to travel <i>through</i> parts of the detector?"
   ]
  },
  {
   "cell_type": "code",
   "execution_count": null,
   "metadata": {
    "collapsed": false
   },
   "outputs": [],
   "source": [
    "# Your code here"
   ]
  },
  {
   "cell_type": "markdown",
   "metadata": {},
   "source": [
    "Which particles will decay (on average) before they reach the detectors? This means that these particles have to be reconstructed from their decay products. \n"
   ]
  },
  {
   "cell_type": "code",
   "execution_count": 5,
   "metadata": {
    "collapsed": false
   },
   "outputs": [],
   "source": [
    "# Your code here"
   ]
  },
  {
   "cell_type": "code",
   "execution_count": null,
   "metadata": {
    "collapsed": false
   },
   "outputs": [],
   "source": []
  }
 ],
 "metadata": {
  "kernelspec": {
   "display_name": "Python 2",
   "language": "python",
   "name": "python2"
  },
  "language_info": {
   "codemirror_mode": {
    "name": "ipython",
    "version": 2
   },
   "file_extension": ".py",
   "mimetype": "text/x-python",
   "name": "python",
   "nbconvert_exporter": "python",
   "pygments_lexer": "ipython2",
   "version": "2.7.10"
  }
 },
 "nbformat": 4,
 "nbformat_minor": 0
}
