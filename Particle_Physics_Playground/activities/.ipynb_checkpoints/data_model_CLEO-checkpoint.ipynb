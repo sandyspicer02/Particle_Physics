{
 "cells": [
  {
   "cell_type": "markdown",
   "metadata": {},
   "source": [
    "Here we explain the data model for the primary <a href=\"http://www.lns.cornell.edu/Research/CLEO/\">CLEO</a> datasets used in many of these activities.\n",
    "\n",
    "This activity focuses mostly on accessing the data, not explaining the physics, though some helpful links are provided in the discussion."
   ]
  },
  {
   "cell_type": "markdown",
   "metadata": {},
   "source": [
    "First we import some standard python libraries, as well as the helper code, <b><tt>cleo_tools</tt></b>."
   ]
  },
  {
   "cell_type": "code",
   "execution_count": 2,
   "metadata": {
    "collapsed": false
   },
   "outputs": [],
   "source": [
    "import numpy as np\n",
    "\n",
    "import matplotlib.pylab as plt\n",
    "%matplotlib inline\n",
    "# Uncomment the following line if you want your plots to be displayed in a separate interactive window.\n",
    "#%matplotlib qt \n",
    "\n",
    "import sys\n",
    "sys.path.append(\"../tools/\")\n",
    "\n",
    "#from draw_objects3D import *\n",
    "import cleo_tools as cleo"
   ]
  },
  {
   "cell_type": "markdown",
   "metadata": {},
   "source": [
    "Next, we will open the file and pull out the collision data. This will return a Python <a href=\"https://docs.python.org/2/tutorial/datastructures.html\">list</a> of all the collisions in that file."
   ]
  },
  {
   "cell_type": "code",
   "execution_count": 3,
   "metadata": {
    "collapsed": false
   },
   "outputs": [
    {
     "name": "stdout",
     "output_type": "stream",
     "text": [
      "# of electron-positron collisions: 101\n"
     ]
    }
   ],
   "source": [
    "infile = open('../data/small_CLEO_test_file.dat')\n",
    "collisions = cleo.get_collisions(infile)\n",
    "\n",
    "number_of_collisions = len(collisions)\n",
    "print \"# of electron-positron collisions: %d\" % (number_of_collisions)"
   ]
  },
  {
   "cell_type": "markdown",
   "metadata": {},
   "source": [
    "Let's take a look at the first collision by looking at the first entry in the list of collisions."
   ]
  },
  {
   "cell_type": "code",
   "execution_count": 17,
   "metadata": {
    "collapsed": false
   },
   "outputs": [
    {
     "name": "stdout",
     "output_type": "stream",
     "text": [
      "[[[0.962702, -0.914477, -0.07792, -0.254903, 1, 0.141874, -0.978184, -131.205322, -11.066578, 11, 1, 0.0, 0.331296]], [[0.911814, 0.318537, 0.463322, -0.52112, 1, 3.223964, -0.124154, -0.004905, -101.500473, 0, 10, 0.0, 0.235039], [0.923165, 0.683971, -0.054415, 0.371146, -1, 2.635935, -0.312179, -0.173599, -98.02478, 0, 10, 0.0, 0.262446]], [], [], [[0.299038, 0.134852, -0.242185, -0.112183], [0.10741, -0.057592, -0.032895, 0.084486], [0.07015, -0.033323, -0.050559, -0.035418], [0.04013, 0.001489, 0.024245, -0.031943], [0.033153, -0.007613, -0.015994, 0.028025], [0.031797, 0.01028, -0.004444, 0.02976], [0.028198, -0.001802, -0.015082, 0.023758], [0.024248, -0.010421, 0.001307, -0.021856], [0.023057, -0.005605, -0.006467, 0.02141], [0.022121, -0.0016, 0.01113, 0.01905]]]\n"
     ]
    }
   ],
   "source": [
    "print collisions[1]"
   ]
  },
  {
   "cell_type": "markdown",
   "metadata": {},
   "source": [
    "We see that this entry is a list of other lists! How many of these other lists are there?"
   ]
  },
  {
   "cell_type": "code",
   "execution_count": 32,
   "metadata": {
    "collapsed": false
   },
   "outputs": [
    {
     "name": "stdout",
     "output_type": "stream",
     "text": [
      "101\n",
      "5\n",
      "[[0.253472, 0.046423, 0.228371, -0.099699], [0.239568, 0.116614, -0.178629, -0.109021], [0.220037, -0.020724, -0.123209, -0.181126], [0.096208, 0.088001, 0.037087, 0.011675], [0.052718, -0.002215, -0.028248, 0.044456], [0.040774, -0.009635, -0.019504, 0.034486], [0.041183, 0.000455, 0.028166, -0.030042], [0.040497, -0.009829, -0.011206, 0.037653], [0.033564, 0.010412, 0.028661, -0.014024], [0.028969, -0.003624, -0.014931, 0.024559], [0.030313, -0.002049, 0.015138, 0.026183], [0.025987, -0.005524, -0.025039, -0.004221], [0.025925, 0.006161, -0.025149, -0.001284], [0.020092, 0.015795, -0.005421, 0.011173], [0.019737, 0.002297, -0.019535, -0.001626], [0.012912, -0.00631, 0.009818, 0.005523]]\n"
     ]
    }
   ],
   "source": [
    "# There are a total of 101 lists of collisions\n",
    "print len(collisions)\n",
    "\n",
    "# There are 5 entries/lists in each of these 101 lists\n",
    "print len(collisions[0])\n",
    "\n",
    "# The second bracket corresponds to what particle (in this case, it is a photon)\n",
    "print (collisions[0][4])\n"
   ]
  },
  {
   "cell_type": "markdown",
   "metadata": {},
   "source": [
    "What are these 5 entries? Each of them contains information about different particles and other physics quantities that you would want to analyze in any given proton-proton collision.\n",
    "\n",
    "These entries contain information about (in order):\n",
    "* <a href=\"http://en.wikipedia.org/wiki/Pion\">pions</a>\n",
    "* <a href=\"http://en.wikipedia.org/wiki/Kaon\">kaons</a>\n",
    "* <a href=\"http://en.wikipedia.org/wiki/Muon\">muons</a>\n",
    "* <a href=\"http://en.wikipedia.org/wiki/Electron\">electrons</a>\n",
    "* <a href=\"http://en.wikipedia.org/wiki/Photon\">photons</a> \n",
    "\n",
    "Each of these 5 entries is a list containting, for example, the information about each pion in the event. A particular collision will most likely have a different number of pion than the previous collision, so you need to be aware of this when you write your code."
   ]
  },
  {
   "cell_type": "code",
   "execution_count": 6,
   "metadata": {
    "collapsed": false
   },
   "outputs": [
    {
     "name": "stdout",
     "output_type": "stream",
     "text": [
      "# of pions:     3\n",
      "# of kaons:     1\n",
      "# of muons:     0\n",
      "# of electrons: 0\n",
      "# of photons:   16\n"
     ]
    }
   ],
   "source": [
    "print \"# of pions:     %d\" % (len(collisions[0][0]))\n",
    "print \"# of kaons:     %d\" % (len(collisions[0][1]))\n",
    "print \"# of muons:     %d\" % (len(collisions[0][2]))\n",
    "print \"# of electrons: %d\" % (len(collisions[0][3]))\n",
    "print \"# of photons:   %d\" % (len(collisions[0][4]))"
   ]
  },
  {
   "cell_type": "markdown",
   "metadata": {},
   "source": [
    "It's easiest to access these quantities by making use of Python's syntax in accessing multiple entries of a list in one line."
   ]
  },
  {
   "cell_type": "code",
   "execution_count": 7,
   "metadata": {
    "collapsed": false
   },
   "outputs": [],
   "source": [
    "pions,kaons,muons,electrons,photons = collisions[0]"
   ]
  },
  {
   "cell_type": "markdown",
   "metadata": {},
   "source": [
    "Let's look at the information for each of these quantities. The first 4 entries are all charged particles and contain the same type of information. "
   ]
  },
  {
   "cell_type": "markdown",
   "metadata": {},
   "source": [
    "## Pions, kaons, muons, electrons"
   ]
  },
  {
   "cell_type": "code",
   "execution_count": 8,
   "metadata": {
    "collapsed": false
   },
   "outputs": [
    {
     "name": "stdout",
     "output_type": "stream",
     "text": [
      "E:          0.2791\n",
      "px:         0.1876\n",
      "py:        -0.0734\n",
      "pz:         0.1335\n",
      "charge:   -1\n",
      "sigpi:     -1.6713\n",
      "sigka:    -11.6832\n",
      "likpi:    -75.0405\n",
      "likka:      0.0000\n",
      "nphopi:     7.0000\n",
      "nphoka:     0.0000\n",
      "depthmu:    0.0000\n",
      "cluster_energy:      0.1836\n"
     ]
    }
   ],
   "source": [
    "E,px,py,pz,charge,sigpi,sigka,likpi,likka,nphopi,nphoka,depthmu,cluster_energy = pions[0]\n",
    "print \"E:        %8.4f\" % (E)\n",
    "print \"px:       %8.4f\" % (px)\n",
    "print \"py:       %8.4f\" % (py)\n",
    "print \"pz:       %8.4f\" % (pz)\n",
    "print \"charge:   %d\" % (charge)\n",
    "print \"sigpi:    %8.4f\" % (sigpi)\n",
    "print \"sigka:    %8.4f\" % (sigka)\n",
    "print \"likpi:    %8.4f\" % (likpi)\n",
    "print \"likka:    %8.4f\" % (likka)\n",
    "print \"nphopi:   %8.4f\" % (nphopi)\n",
    "print \"nphoka:   %8.4f\" % (nphoka)\n",
    "print \"depthmu:  %8.4f\" % (depthmu)\n",
    "print \"cluster_energy:    %8.4f\" % (cluster_energy)\n"
   ]
  },
  {
   "cell_type": "markdown",
   "metadata": {},
   "source": [
    "Those first 4 entries refer to the energy and Cartesian-components of the momentum of the jet. Collectively, this is referred to as the <a href=\"http://en.wikipedia.org/wiki/Four-momentum\">four-momentum</a> (or four-vector) and it is the bread-and-butter of most of the analyses. \n",
    "\n",
    "The 5th entry is the electric charge.\n",
    "\n",
    "The next entries are..."
   ]
  },
  {
   "cell_type": "markdown",
   "metadata": {},
   "source": [
    "## Photons"
   ]
  },
  {
   "cell_type": "code",
   "execution_count": 9,
   "metadata": {
    "collapsed": false
   },
   "outputs": [
    {
     "name": "stdout",
     "output_type": "stream",
     "text": [
      "E:    0.2535\n",
      "px:   0.0464\n",
      "py:   0.2284\n",
      "pz:  -0.0997\n"
     ]
    }
   ],
   "source": [
    "E,px,py,pz = photons[0]\n",
    "print \"E:  %8.4f\" % (E)\n",
    "print \"px: %8.4f\" % (px)\n",
    "print \"py: %8.4f\" % (py)\n",
    "print \"pz: %8.4f\" % (pz)"
   ]
  },
  {
   "cell_type": "markdown",
   "metadata": {},
   "source": [
    "Photons are electrically neutral, so the only 4 entries are the components of the four-momentum."
   ]
  },
  {
   "cell_type": "markdown",
   "metadata": {},
   "source": [
    "## Sample skeleton code"
   ]
  },
  {
   "cell_type": "markdown",
   "metadata": {},
   "source": [
    "Here is a snippet of code that loops over some data and plots the number of pions, the energy of the pions, and the energy of the kaons for each event."
   ]
  },
  {
   "cell_type": "code",
   "execution_count": 36,
   "metadata": {
    "collapsed": false
   },
   "outputs": [
    {
     "ename": "TypeError",
     "evalue": "'int' object has no attribute '__getitem__'",
     "output_type": "error",
     "traceback": [
      "\u001b[0;31m---------------------------------------------------------------------------\u001b[0m",
      "\u001b[0;31mTypeError\u001b[0m                                 Traceback (most recent call last)",
      "\u001b[0;32m<ipython-input-36-10298b75abaf>\u001b[0m in \u001b[0;36m<module>\u001b[0;34m()\u001b[0m\n\u001b[1;32m     16\u001b[0m         \u001b[0mE\u001b[0m\u001b[0;34m,\u001b[0m\u001b[0mpx\u001b[0m\u001b[0;34m,\u001b[0m\u001b[0mpy\u001b[0m\u001b[0;34m,\u001b[0m\u001b[0mpz\u001b[0m\u001b[0;34m,\u001b[0m\u001b[0mq\u001b[0m \u001b[0;34m=\u001b[0m \u001b[0mpion\u001b[0m\u001b[0;34m[\u001b[0m\u001b[0;36m0\u001b[0m\u001b[0;34m:\u001b[0m\u001b[0;36m5\u001b[0m\u001b[0;34m]\u001b[0m\u001b[0;34m\u001b[0m\u001b[0m\n\u001b[1;32m     17\u001b[0m         \u001b[0mpions_E\u001b[0m\u001b[0;34m.\u001b[0m\u001b[0mappend\u001b[0m\u001b[0;34m(\u001b[0m\u001b[0mE\u001b[0m\u001b[0;34m)\u001b[0m\u001b[0;34m\u001b[0m\u001b[0m\n\u001b[0;32m---> 18\u001b[0;31m     \u001b[0;32mprint\u001b[0m \u001b[0mlen\u001b[0m\u001b[0;34m(\u001b[0m\u001b[0mpions\u001b[0m\u001b[0;34m)\u001b[0m\u001b[0;34m[\u001b[0m\u001b[0;36m0\u001b[0m\u001b[0;34m]\u001b[0m\u001b[0;34m\u001b[0m\u001b[0m\n\u001b[0m\u001b[1;32m     19\u001b[0m \u001b[0;34m\u001b[0m\u001b[0m\n\u001b[1;32m     20\u001b[0m     \u001b[0;32mfor\u001b[0m \u001b[0mmuon\u001b[0m \u001b[0;32min\u001b[0m \u001b[0mmuons\u001b[0m\u001b[0;34m:\u001b[0m\u001b[0;34m\u001b[0m\u001b[0m\n",
      "\u001b[0;31mTypeError\u001b[0m: 'int' object has no attribute '__getitem__'"
     ]
    }
   ],
   "source": [
    "infile = open('../data/small_CLEO_test_file.dat')\n",
    "collisions = cleo.get_collisions(infile)\n",
    "\n",
    "# We will use these to store the quantities that we will be plotting later.\n",
    "npions = []\n",
    "pions_E = []\n",
    "muons_E = []\n",
    "\n",
    "for collision in collisions:\n",
    "    \n",
    "    pions,kaons,muons,electrons,photons = collision\n",
    "    \n",
    "    npions.append(len(pions))\n",
    "    \n",
    "    for pion in pions:\n",
    "        E,px,py,pz,q = pion[0:5]\n",
    "        pions_E.append(E)\n",
    "    print len(pions)\n",
    "        \n",
    "    for muon in muons:\n",
    "        E,px,py,pz,q = muon[0:5]\n",
    "        muons_E.append(E)\n",
    "        \n",
    "# Plot the quantities\n",
    "plt.figure(figsize=(16,4))\n",
    "\n",
    "plt.subplot(1,3,1)\n",
    "plt.hist(npions,bins=12,range=(0,12))\n",
    "plt.xlabel(r'# of pions')\n",
    "plt.ylabel('# entries')\n",
    "\n",
    "plt.subplot(1,3,2)\n",
    "plt.hist(pions_E,bins=25,range=(0,2))\n",
    "plt.xlabel(r'Pion energy [GeV]')\n",
    "plt.ylabel('# entries')\n",
    "\n",
    "plt.subplot(1,3,3)\n",
    "plt.hist(muons_E,bins=25,range=(0,2))\n",
    "plt.xlabel(r'Muon energy [GeV]')\n",
    "plt.ylabel('# entries')"
   ]
  },
  {
   "cell_type": "code",
   "execution_count": null,
   "metadata": {
    "collapsed": false
   },
   "outputs": [],
   "source": []
  }
 ],
 "metadata": {
  "kernelspec": {
   "display_name": "Python 2",
   "language": "python",
   "name": "python2"
  },
  "language_info": {
   "codemirror_mode": {
    "name": "ipython",
    "version": 2
   },
   "file_extension": ".py",
   "mimetype": "text/x-python",
   "name": "python",
   "nbconvert_exporter": "python",
   "pygments_lexer": "ipython2",
   "version": "2.7.10"
  }
 },
 "nbformat": 4,
 "nbformat_minor": 0
}
