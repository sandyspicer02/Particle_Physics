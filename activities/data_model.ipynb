{
 "cells": [
  {
   "cell_type": "markdown",
   "metadata": {},
   "source": [
    "Here we explain the data model for the primary <a href=\"http://cms.web.cern.ch/\">CMS</a> datasets used in many of these activities.\n",
    "\n",
    "This activity focuses mostly on accessing the data, not explaining the physics, though some helpful links are provided in the discussion."
   ]
  },
  {
   "cell_type": "markdown",
   "metadata": {},
   "source": [
    "First we import some standard python libraries, as well as the helper code, <b><tt>cms_tools</tt></b>."
   ]
  },
  {
   "cell_type": "code",
   "execution_count": 2,
   "metadata": {
    "collapsed": false
   },
   "outputs": [],
   "source": [
    "import numpy as np\n",
    "\n",
    "import matplotlib.pylab as plt\n",
    "%matplotlib inline\n",
    "# Uncomment the following line if you want your plots to be displayed in a separate interactive window.\n",
    "#%matplotlib qt \n",
    "\n",
    "import sys\n",
    "sys.path.append(\"../tools/\")\n",
    "\n",
    "#from draw_objects3D import *\n",
    "import cms_tools as cms"
   ]
  },
  {
   "cell_type": "markdown",
   "metadata": {},
   "source": [
    "Next, we will open the file and pull out the collision data. This will return a Python <a href=\"https://docs.python.org/2/tutorial/datastructures.html\">list</a> of all the collisions in that file."
   ]
  },
  {
   "cell_type": "code",
   "execution_count": 3,
   "metadata": {
    "collapsed": false
   },
   "outputs": [
    {
     "name": "stdout",
     "output_type": "stream",
     "text": [
      "# of proton-proton collisions: 10\n"
     ]
    }
   ],
   "source": [
    "infile = open('../data/small_cms_test_file.dat')\n",
    "collisions = cms.get_collisions(infile)\n",
    "\n",
    "number_of_collisions = len(collisions)\n",
    "print \"# of proton-proton collisions: %d\" % (number_of_collisions)"
   ]
  },
  {
   "cell_type": "markdown",
   "metadata": {},
   "source": [
    "Let's take a look at the first collision by looking at the first entry in the list of collisions."
   ]
  },
  {
   "cell_type": "code",
   "execution_count": 16,
   "metadata": {
    "collapsed": false
   },
   "outputs": [
    {
     "name": "stdout",
     "output_type": "stream",
     "text": [
      "[[[88.9127, 32.9767, -75.1939, 29.541, -1.0], [79.2211, -58.6558, 49.1723, 13.5915, -1.0], [43.313, -5.9129, 40.0892, 12.0431, -1.0], [274.8094, -21.4194, 27.5639, -272.4152, -1.0], [26.6201, 0.5268, -24.7563, -7.4046, 0.0]], [[15.7375, 1.4793, -15.2566, -3.5645, -1]], [], [[52.364, 17.4983, -45.4233, 19.3009], [10.2904, -1.4633, 10.0887, 1.4035]], [44.9415, 0.422]]\n"
     ]
    }
   ],
   "source": [
    "print collisions[0] \n",
    "# What does the number in the bracket refer to?\n",
    "# What amount of time is separating the number of proton-proton collisions?\n",
    "# Why are some of the numbers negative?"
   ]
  },
  {
   "cell_type": "markdown",
   "metadata": {},
   "source": [
    "We see that this entry is a list of other lists! How many of these other lists are there?"
   ]
  },
  {
   "cell_type": "code",
   "execution_count": 4,
   "metadata": {
    "collapsed": false
   },
   "outputs": [
    {
     "name": "stdout",
     "output_type": "stream",
     "text": [
      "5\n"
     ]
    }
   ],
   "source": [
    "print len(collisions[0])"
   ]
  },
  {
   "cell_type": "markdown",
   "metadata": {},
   "source": [
    "What are these 5 entries? Each of them contains information about different particles and other physics quantities that you would want to analyze in any given proton-proton collision.\n",
    "\n",
    "The first 4 entries contain information about (in order):\n",
    "* <a href=\"http://en.wikipedia.org/wiki/Jet_(particle_physics)\">Jets</a>\n",
    "* <a href=\"http://en.wikipedia.org/wiki/Muon\">Muons</a>\n",
    "* <a href=\"http://en.wikipedia.org/wiki/Jet_(particle_physics)\">Electrons</a>\n",
    "* <a href=\"http://en.wikipedia.org/wiki/Photon\">Photons</a> \n",
    "\n",
    "Each of these 4 entries is a list containting, for example, the information about each jet in the event. A particular collision will most likely have a different number of jets than the previous collision, so you need to be aware of this when you write your code."
   ]
  },
  {
   "cell_type": "code",
   "execution_count": 17,
   "metadata": {
    "collapsed": false
   },
   "outputs": [
    {
     "name": "stdout",
     "output_type": "stream",
     "text": [
      "# of jets:      5\n",
      "# of muons:     1\n",
      "# of electrons: 0\n",
      "# of photons:   2\n"
     ]
    }
   ],
   "source": [
    "print \"# of jets:      %d\" % (len(collisions[0][0]))\n",
    "print \"# of muons:     %d\" % (len(collisions[0][1]))\n",
    "print \"# of electrons: %d\" % (len(collisions[0][2]))\n",
    "print \"# of photons:   %d\" % (len(collisions[0][3]))\n",
    "# Why is 0 used?\n",
    "# Does the second bracket indicate whether it's a jet, meson, electron, or photon?"
   ]
  },
  {
   "cell_type": "markdown",
   "metadata": {},
   "source": [
    "The 5th entry contains the $x$- and $y$-components for the <a href=\"http://en.wikipedia.org/wiki/Missing_energy\">MET</a>, which refers to the missing energy in the transverse plane. Stands for missing tranverse energy."
   ]
  },
  {
   "cell_type": "code",
   "execution_count": 21,
   "metadata": {
    "collapsed": false
   },
   "outputs": [
    {
     "name": "stdout",
     "output_type": "stream",
     "text": [
      "MET x: 44.941500\n",
      "MET y: 0.422000\n"
     ]
    }
   ],
   "source": [
    "METx = collisions[0][4][0]\n",
    "METy = collisions[0][4][1]\n",
    "\n",
    "print \"MET x: %f\" % (METx)\n",
    "print \"MET y: %f\" % (METy)"
   ]
  },
  {
   "cell_type": "markdown",
   "metadata": {},
   "source": [
    "It's easiest to access these quantities by making use of Python's syntax in accessing multiple entries of a list in one line."
   ]
  },
  {
   "cell_type": "code",
   "execution_count": 22,
   "metadata": {
    "collapsed": false
   },
   "outputs": [],
   "source": [
    "jets,muons,electrons,photons,met = collisions[0]"
   ]
  },
  {
   "cell_type": "markdown",
   "metadata": {},
   "source": [
    "Let's look at the information for each of these quantities. "
   ]
  },
  {
   "cell_type": "markdown",
   "metadata": {},
   "source": [
    "## Jets"
   ]
  },
  {
   "cell_type": "code",
   "execution_count": 23,
   "metadata": {
    "collapsed": false
   },
   "outputs": [
    {
     "name": "stdout",
     "output_type": "stream",
     "text": [
      "E:      88.9127\n",
      "px:     32.9767\n",
      "py:    -75.1939\n",
      "pz:     29.5410\n",
      "btag:   -1.0000\n"
     ]
    }
   ],
   "source": [
    "E,px,py,pz,btag = jets[0]\n",
    "print \"E:     %8.4f\" % (E) # Energy\n",
    "print \"px:    %8.4f\" % (px) # Momentum in x-direction  \n",
    "print \"py:    %8.4f\" % (py) # Momentum in y-direction\n",
    "print \"pz:    %8.4f\" % (pz) # Momentum in z-direction\n",
    "print \"btag:  %8.4f\" % (btag) # Likelihood that the jet came from a b-quark, or from a u,d,s, or c-quark\n",
    "# Why use 8.4?"
   ]
  },
  {
   "cell_type": "markdown",
   "metadata": {},
   "source": [
    "Those first 4 entries refer to the energy and Cartesian-components of the momentum of the jet. Collectively, this is referred to as the <a href=\"http://en.wikipedia.org/wiki/Four-momentum\">four-momentum</a> (or four-vector) and it is the bread-and-butter of most of the analyses. \n",
    "\n",
    "The 5th entry is the <a href=\"http://en.wikipedia.org/wiki/B-tagging\">b-tagging</a> variable. This quantity is related to the likelihood that the jet came from a $b$-quark (close to 1) or from a $u,d,s$ or $c$-quark (closer to 0 or -1)."
   ]
  },
  {
   "cell_type": "markdown",
   "metadata": {},
   "source": [
    "## Muons or electrons"
   ]
  },
  {
   "cell_type": "code",
   "execution_count": 30,
   "metadata": {
    "collapsed": false
   },
   "outputs": [
    {
     "name": "stdout",
     "output_type": "stream",
     "text": [
      "E:   15.7375\n",
      "px:   1.4793\n",
      "py: -15.2566\n",
      "pz:  -3.5645\n",
      "q:   -1.0000\n"
     ]
    }
   ],
   "source": [
    "E,px,py,pz,q = muons[0]\n",
    "print \"E:  %8.4f\" % (E)\n",
    "print \"px: %8.4f\" % (px)\n",
    "print \"py: %8.4f\" % (py)\n",
    "print \"pz: %8.4f\" % (pz)\n",
    "print \"q:  %8.4f\" % (q)"
   ]
  },
  {
   "cell_type": "markdown",
   "metadata": {},
   "source": [
    "Muons and electrons have the same data structure. The first 4 entries are the components of the four-momentum and the 5th entry is the electrical charge ($q$).\n",
    "\n",
    "<i>Important!!!!</i>\n",
    "\n",
    "### *While the charge of a muon or electron is an integer charge (-1 or +1), the charge is stored as a floating point number. This is to make the data extraction from the file more efficient.*"
   ]
  },
  {
   "cell_type": "markdown",
   "metadata": {},
   "source": [
    "## Photons"
   ]
  },
  {
   "cell_type": "code",
   "execution_count": 29,
   "metadata": {
    "collapsed": false
   },
   "outputs": [
    {
     "name": "stdout",
     "output_type": "stream",
     "text": [
      "E:   52.3640\n",
      "px:  17.4983\n",
      "py: -45.4233\n",
      "pz:  19.3009\n"
     ]
    }
   ],
   "source": [
    "E,px,py,pz = photons[0]\n",
    "print \"E:  %8.4f\" % (E)\n",
    "print \"px: %8.4f\" % (px)\n",
    "print \"py: %8.4f\" % (py)\n",
    "print \"pz: %8.4f\" % (pz)"
   ]
  },
  {
   "cell_type": "markdown",
   "metadata": {},
   "source": [
    "Photons are electrically neutral, so the only 4 entries are the components of the four-momentum."
   ]
  },
  {
   "cell_type": "markdown",
   "metadata": {},
   "source": [
    "## Missing Transverse Energy"
   ]
  },
  {
   "cell_type": "code",
   "execution_count": 11,
   "metadata": {
    "collapsed": false
   },
   "outputs": [
    {
     "name": "stdout",
     "output_type": "stream",
     "text": [
      "MET x: 44.941500\n",
      "MET y: 0.422000\n",
      "MET:   44.943481\n"
     ]
    }
   ],
   "source": [
    "METx = collisions[0][4][0]\n",
    "METy = collisions[0][4][1]\n",
    "\n",
    "print \"MET x: %f\" % (METx)\n",
    "print \"MET y: %f\" % (METy)\n",
    "print \"MET:   %f\" % (np.sqrt(METx*METx + METy*METy))"
   ]
  },
  {
   "cell_type": "markdown",
   "metadata": {},
   "source": [
    "Missing transverse energy ($M_{ET}$) is the missing energy in the transverse (x,y) plane,  where the transverse plane is measured with respect to the beamline (colliding proton beams). As such, there are only the two components for this quantity. \n",
    "\n",
    "Most analyses make use of the magnitude of this quantity. "
   ]
  },
  {
   "cell_type": "markdown",
   "metadata": {},
   "source": [
    "## Sample skeleton code"
   ]
  },
  {
   "cell_type": "markdown",
   "metadata": {},
   "source": [
    "Here is a snippet of code that loops over some data and plots the number of jets, the energy of the jets, and the energy of the muons for each event."
   ]
  },
  {
   "cell_type": "code",
   "execution_count": 12,
   "metadata": {
    "collapsed": false
   },
   "outputs": [
    {
     "data": {
      "text/plain": [
       "<matplotlib.text.Text at 0x7f2402e86f90>"
      ]
     },
     "execution_count": 12,
     "metadata": {},
     "output_type": "execute_result"
    },
    {
     "data": {
      "image/png": "[encoded data removed]",
      "text/plain": [
       "<matplotlib.figure.Figure at 0x7f24031160d0>"
      ]
     },
     "metadata": {},
     "output_type": "display_data"
    }
   ],
   "source": [
    "infile = open('../data/mc_dy_1000collisions.dat')\n",
    "collisions = cms.get_collisions(infile)\n",
    "\n",
    "# We will use these to store the quantities that we will be plotting later.\n",
    "njets = []\n",
    "jets_E = []\n",
    "muons_E = []\n",
    "\n",
    "for collision in collisions:\n",
    "    \n",
    "    jets,muons,electrons,photons,met = collision\n",
    "    \n",
    "    njets.append(len(jets))\n",
    "    \n",
    "    for jet in jets:\n",
    "        E,px,py,pz,btag = jet\n",
    "        jets_E.append(E)\n",
    "        \n",
    "    for muon in muons:\n",
    "        E,px,py,pz,q = muon\n",
    "        muons_E.append(E)\n",
    "        \n",
    "# Plot the quantities\n",
    "plt.figure(figsize=(16,4))\n",
    "\n",
    "plt.subplot(1,3,1)\n",
    "plt.hist(njets,bins=5,range=(0,5))\n",
    "plt.xlabel(r'# of jets')\n",
    "plt.ylabel('# entries')\n",
    "\n",
    "plt.subplot(1,3,2)\n",
    "plt.hist(jets_E,bins=25,range=(0,400))\n",
    "plt.xlabel(r'Jet energy [GeV]')\n",
    "plt.ylabel('# entries')\n",
    "\n",
    "plt.subplot(1,3,3)\n",
    "plt.hist(muons_E,bins=25,range=(0,400))\n",
    "plt.xlabel(r'Muon energy [GeV]')\n",
    "plt.ylabel('# entries')"
   ]
  },
  {
   "cell_type": "code",
   "execution_count": null,
   "metadata": {
    "collapsed": false
   },
   "outputs": [],
   "source": []
  }
 ],
 "metadata": {
  "kernelspec": {
   "display_name": "Python 2",
   "language": "python",
   "name": "python2"
  },
  "language_info": {
   "codemirror_mode": {
    "name": "ipython",
    "version": 2
   },
   "file_extension": ".py",
   "mimetype": "text/x-python",
   "name": "python",
   "nbconvert_exporter": "python",
   "pygments_lexer": "ipython2",
   "version": "2.7.10"
  }
 },
 "nbformat": 4,
 "nbformat_minor": 0
}
